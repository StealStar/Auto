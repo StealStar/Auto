{
  "nbformat": 4,
  "nbformat_minor": 0,
  "metadata": {
    "colab": {
      "provenance": [],
      "authorship_tag": "ABX9TyN8Yl40jqvL2/vFYqwZZ2Cr",
      "include_colab_link": true
    },
    "kernelspec": {
      "name": "python3",
      "display_name": "Python 3"
    },
    "language_info": {
      "name": "python"
    }
  },
  "cells": [
    {
      "cell_type": "markdown",
      "metadata": {
        "id": "view-in-github",
        "colab_type": "text"
      },
      "source": [
        "<a href=\"https://colab.research.google.com/github/StealStar/Auto/blob/Colab-code/%EC%9E%90%EB%8F%99%EC%82%AC%EB%83%A5_%ED%94%84%EB%A1%9C%EC%A0%9D%ED%8A%B8_2.ipynb\" target=\"_parent\"><img src=\"https://colab.research.google.com/assets/colab-badge.svg\" alt=\"Open In Colab\"/></a>"
      ]
    },
    {
      "cell_type": "code",
      "execution_count": null,
      "metadata": {
        "colab": {
          "base_uri": "https://localhost:8080/"
        },
        "collapsed": true,
        "id": "9XW2Z_GGdjqT",
        "outputId": "8acecff4-12ec-405f-c2d4-63f398d081ab"
      },
      "outputs": [
        {
          "output_type": "stream",
          "name": "stdout",
          "text": [
            "Requirement already satisfied: google-cloud-texttospeech in /usr/local/lib/python3.11/dist-packages (2.25.1)\n",
            "Requirement already satisfied: google-api-core!=2.0.*,!=2.1.*,!=2.10.*,!=2.2.*,!=2.3.*,!=2.4.*,!=2.5.*,!=2.6.*,!=2.7.*,!=2.8.*,!=2.9.*,<3.0.0,>=1.34.1 in /usr/local/lib/python3.11/dist-packages (from google-api-core[grpc]!=2.0.*,!=2.1.*,!=2.10.*,!=2.2.*,!=2.3.*,!=2.4.*,!=2.5.*,!=2.6.*,!=2.7.*,!=2.8.*,!=2.9.*,<3.0.0,>=1.34.1->google-cloud-texttospeech) (2.24.2)\n",
            "Requirement already satisfied: google-auth!=2.24.0,!=2.25.0,<3.0.0,>=2.14.1 in /usr/local/lib/python3.11/dist-packages (from google-cloud-texttospeech) (2.38.0)\n",
            "Requirement already satisfied: proto-plus<2.0.0,>=1.22.3 in /usr/local/lib/python3.11/dist-packages (from google-cloud-texttospeech) (1.26.1)\n",
            "Requirement already satisfied: protobuf!=4.21.0,!=4.21.1,!=4.21.2,!=4.21.3,!=4.21.4,!=4.21.5,<7.0.0,>=3.20.2 in /usr/local/lib/python3.11/dist-packages (from google-cloud-texttospeech) (4.25.6)\n",
            "Requirement already satisfied: googleapis-common-protos<2.0.0,>=1.56.2 in /usr/local/lib/python3.11/dist-packages (from google-api-core!=2.0.*,!=2.1.*,!=2.10.*,!=2.2.*,!=2.3.*,!=2.4.*,!=2.5.*,!=2.6.*,!=2.7.*,!=2.8.*,!=2.9.*,<3.0.0,>=1.34.1->google-api-core[grpc]!=2.0.*,!=2.1.*,!=2.10.*,!=2.2.*,!=2.3.*,!=2.4.*,!=2.5.*,!=2.6.*,!=2.7.*,!=2.8.*,!=2.9.*,<3.0.0,>=1.34.1->google-cloud-texttospeech) (1.69.1)\n",
            "Requirement already satisfied: requests<3.0.0,>=2.18.0 in /usr/local/lib/python3.11/dist-packages (from google-api-core!=2.0.*,!=2.1.*,!=2.10.*,!=2.2.*,!=2.3.*,!=2.4.*,!=2.5.*,!=2.6.*,!=2.7.*,!=2.8.*,!=2.9.*,<3.0.0,>=1.34.1->google-api-core[grpc]!=2.0.*,!=2.1.*,!=2.10.*,!=2.2.*,!=2.3.*,!=2.4.*,!=2.5.*,!=2.6.*,!=2.7.*,!=2.8.*,!=2.9.*,<3.0.0,>=1.34.1->google-cloud-texttospeech) (2.32.3)\n",
            "Requirement already satisfied: grpcio<2.0dev,>=1.33.2 in /usr/local/lib/python3.11/dist-packages (from google-api-core[grpc]!=2.0.*,!=2.1.*,!=2.10.*,!=2.2.*,!=2.3.*,!=2.4.*,!=2.5.*,!=2.6.*,!=2.7.*,!=2.8.*,!=2.9.*,<3.0.0,>=1.34.1->google-cloud-texttospeech) (1.71.0)\n",
            "Requirement already satisfied: grpcio-status<2.0.dev0,>=1.33.2 in /usr/local/lib/python3.11/dist-packages (from google-api-core[grpc]!=2.0.*,!=2.1.*,!=2.10.*,!=2.2.*,!=2.3.*,!=2.4.*,!=2.5.*,!=2.6.*,!=2.7.*,!=2.8.*,!=2.9.*,<3.0.0,>=1.34.1->google-cloud-texttospeech) (1.62.3)\n",
            "Requirement already satisfied: cachetools<6.0,>=2.0.0 in /usr/local/lib/python3.11/dist-packages (from google-auth!=2.24.0,!=2.25.0,<3.0.0,>=2.14.1->google-cloud-texttospeech) (5.5.2)\n",
            "Requirement already satisfied: pyasn1-modules>=0.2.1 in /usr/local/lib/python3.11/dist-packages (from google-auth!=2.24.0,!=2.25.0,<3.0.0,>=2.14.1->google-cloud-texttospeech) (0.4.1)\n",
            "Requirement already satisfied: rsa<5,>=3.1.4 in /usr/local/lib/python3.11/dist-packages (from google-auth!=2.24.0,!=2.25.0,<3.0.0,>=2.14.1->google-cloud-texttospeech) (4.9)\n",
            "Requirement already satisfied: pyasn1<0.7.0,>=0.4.6 in /usr/local/lib/python3.11/dist-packages (from pyasn1-modules>=0.2.1->google-auth!=2.24.0,!=2.25.0,<3.0.0,>=2.14.1->google-cloud-texttospeech) (0.6.1)\n",
            "Requirement already satisfied: charset-normalizer<4,>=2 in /usr/local/lib/python3.11/dist-packages (from requests<3.0.0,>=2.18.0->google-api-core!=2.0.*,!=2.1.*,!=2.10.*,!=2.2.*,!=2.3.*,!=2.4.*,!=2.5.*,!=2.6.*,!=2.7.*,!=2.8.*,!=2.9.*,<3.0.0,>=1.34.1->google-api-core[grpc]!=2.0.*,!=2.1.*,!=2.10.*,!=2.2.*,!=2.3.*,!=2.4.*,!=2.5.*,!=2.6.*,!=2.7.*,!=2.8.*,!=2.9.*,<3.0.0,>=1.34.1->google-cloud-texttospeech) (3.4.1)\n",
            "Requirement already satisfied: idna<4,>=2.5 in /usr/local/lib/python3.11/dist-packages (from requests<3.0.0,>=2.18.0->google-api-core!=2.0.*,!=2.1.*,!=2.10.*,!=2.2.*,!=2.3.*,!=2.4.*,!=2.5.*,!=2.6.*,!=2.7.*,!=2.8.*,!=2.9.*,<3.0.0,>=1.34.1->google-api-core[grpc]!=2.0.*,!=2.1.*,!=2.10.*,!=2.2.*,!=2.3.*,!=2.4.*,!=2.5.*,!=2.6.*,!=2.7.*,!=2.8.*,!=2.9.*,<3.0.0,>=1.34.1->google-cloud-texttospeech) (3.10)\n",
            "Requirement already satisfied: urllib3<3,>=1.21.1 in /usr/local/lib/python3.11/dist-packages (from requests<3.0.0,>=2.18.0->google-api-core!=2.0.*,!=2.1.*,!=2.10.*,!=2.2.*,!=2.3.*,!=2.4.*,!=2.5.*,!=2.6.*,!=2.7.*,!=2.8.*,!=2.9.*,<3.0.0,>=1.34.1->google-api-core[grpc]!=2.0.*,!=2.1.*,!=2.10.*,!=2.2.*,!=2.3.*,!=2.4.*,!=2.5.*,!=2.6.*,!=2.7.*,!=2.8.*,!=2.9.*,<3.0.0,>=1.34.1->google-cloud-texttospeech) (2.3.0)\n",
            "Requirement already satisfied: certifi>=2017.4.17 in /usr/local/lib/python3.11/dist-packages (from requests<3.0.0,>=2.18.0->google-api-core!=2.0.*,!=2.1.*,!=2.10.*,!=2.2.*,!=2.3.*,!=2.4.*,!=2.5.*,!=2.6.*,!=2.7.*,!=2.8.*,!=2.9.*,<3.0.0,>=1.34.1->google-api-core[grpc]!=2.0.*,!=2.1.*,!=2.10.*,!=2.2.*,!=2.3.*,!=2.4.*,!=2.5.*,!=2.6.*,!=2.7.*,!=2.8.*,!=2.9.*,<3.0.0,>=1.34.1->google-cloud-texttospeech) (2025.1.31)\n",
            "Requirement already satisfied: openai in /usr/local/lib/python3.11/dist-packages (1.61.1)\n",
            "Requirement already satisfied: anyio<5,>=3.5.0 in /usr/local/lib/python3.11/dist-packages (from openai) (3.7.1)\n",
            "Requirement already satisfied: distro<2,>=1.7.0 in /usr/local/lib/python3.11/dist-packages (from openai) (1.9.0)\n",
            "Requirement already satisfied: httpx<1,>=0.23.0 in /usr/local/lib/python3.11/dist-packages (from openai) (0.28.1)\n",
            "Requirement already satisfied: jiter<1,>=0.4.0 in /usr/local/lib/python3.11/dist-packages (from openai) (0.9.0)\n",
            "Requirement already satisfied: pydantic<3,>=1.9.0 in /usr/local/lib/python3.11/dist-packages (from openai) (2.10.6)\n",
            "Requirement already satisfied: sniffio in /usr/local/lib/python3.11/dist-packages (from openai) (1.3.1)\n",
            "Requirement already satisfied: tqdm>4 in /usr/local/lib/python3.11/dist-packages (from openai) (4.67.1)\n",
            "Requirement already satisfied: typing-extensions<5,>=4.11 in /usr/local/lib/python3.11/dist-packages (from openai) (4.12.2)\n",
            "Requirement already satisfied: idna>=2.8 in /usr/local/lib/python3.11/dist-packages (from anyio<5,>=3.5.0->openai) (3.10)\n",
            "Requirement already satisfied: certifi in /usr/local/lib/python3.11/dist-packages (from httpx<1,>=0.23.0->openai) (2025.1.31)\n",
            "Requirement already satisfied: httpcore==1.* in /usr/local/lib/python3.11/dist-packages (from httpx<1,>=0.23.0->openai) (1.0.7)\n",
            "Requirement already satisfied: h11<0.15,>=0.13 in /usr/local/lib/python3.11/dist-packages (from httpcore==1.*->httpx<1,>=0.23.0->openai) (0.14.0)\n",
            "Requirement already satisfied: annotated-types>=0.6.0 in /usr/local/lib/python3.11/dist-packages (from pydantic<3,>=1.9.0->openai) (0.7.0)\n",
            "Requirement already satisfied: pydantic-core==2.27.2 in /usr/local/lib/python3.11/dist-packages (from pydantic<3,>=1.9.0->openai) (2.27.2)\n"
          ]
        }
      ],
      "source": [
        "!pip install google-cloud-texttospeech  # TTS 라이브러리 설치\n",
        "!pip install openai  # 또는 다른 AI API 라이브러리"
      ]
    },
    {
      "cell_type": "code",
      "source": [
        "# 기존에 작성하신 코드 전체를 여기에 붙여넣기\n",
        "\n",
        "import csv\n",
        "import os\n",
        "import re\n",
        "import json\n",
        "from typing import List, Dict, Union, Optional\n",
        "\n",
        "harmful_word_phrase_blacklist_data: Optional[List[Dict[str, str]]] = None\n",
        "\n",
        "def preprocess_text(text: str) -> str:\n",
        "    \"\"\"입력 텍스트에서 띄어쓰기 및 문장 부호를 제거합니다.\"\"\"\n",
        "    text_without_spaces = re.sub(r'\\s', '', text)\n",
        "    text_without_punctuation = re.sub(r'[.,?!\\'\"~·—…「」《》〈〉《》\\[\\]【】()\\[\\]]', '', text_without_spaces)\n",
        "    return text_without_punctuation\n",
        "\n",
        "def load_user_defined_blacklist_from_json(json_file_path: str) -> Union[List[Dict[str, str]], str, None]:\n",
        "    \"\"\"\n",
        "    JSON 파일에서 사용자 정의 유해 단어/구문 블랙리스트를 로드합니다.\n",
        "    \"\"\"\n",
        "    user_defined_blacklist = []\n",
        "    if not os.path.exists(json_file_path):\n",
        "        print(f\"**[경고]** 사용자 정의 블랙리스트 파일 '{json_file_path}'이 존재하지 않습니다. 기본 블랙리스트만 사용합니다.\")\n",
        "        return None\n",
        "\n",
        "    try:\n",
        "        with open(json_file_path, 'r', encoding='utf-8') as json_file:\n",
        "            user_defined_data = json.load(json_file)\n",
        "            if not isinstance(user_defined_data, list):\n",
        "                error_message = f\"오류 발생: 사용자 정의 블랙리스트 JSON 파일 '{json_file_path}' 형식이 잘못되었습니다. \\nJSON 파일은 리스트 형태여야 합니다.\"\n",
        "                return error_message\n",
        "            for item in user_defined_data:\n",
        "                if not isinstance(item, dict) or \"word_phrase\" not in item or \"category\" not in item:\n",
        "                    error_message = f\"오류 발생: 사용자 정의 블랙리스트 JSON 파일 '{json_file_path}' 형식이 잘못되었습니다. \\n각 아이템은 'word_phrase'와 'category' 키를 포함하는 딕셔너리 형태여야 합니다.\"\n",
        "                    return error_message\n",
        "                user_defined_blacklist.append({\n",
        "                    \"word_phrase\": item[\"word_phrase\"].strip(),\n",
        "                    \"category\": item[\"category\"].strip()\n",
        "                })\n",
        "        return user_defined_blacklist\n",
        "\n",
        "    except json.JSONDecodeError as e:\n",
        "        error_message = f\"오류 발생: 사용자 정의 블랙리스트 JSON 파일 '{json_file_path}' 내용 파싱 오류 (JSON 형식이 아님): {e}\"\n",
        "        return error_message\n",
        "    except Exception as e:\n",
        "        error_message = f\"오류 발생: 사용자 정의 블랙리스트 JSON 파일 '{json_file_path}' 로드 중 오류 발생: {e}\"\n",
        "        return error_message\n",
        "\n",
        "def load_harmful_word_blacklist_from_csv(csv_file_path: str, user_blacklist_file_path: str = None) -> Union[str, None]:\n",
        "    \"\"\"\n",
        "    CSV 파일에서 유해 단어/구문 블랙리스트를 로드하고, 사용자 정의 블랙리스트와 병합합니다.\n",
        "    \"\"\"\n",
        "    global harmful_word_phrase_blacklist_data\n",
        "    harmful_word_phrase_blacklist: List[Dict[str, str]] = []\n",
        "    user_defined_blacklist: List[Dict[str, str]] = []\n",
        "\n",
        "    if not os.path.exists(csv_file_path):\n",
        "        error_message = f\"오류 발생: 블랙리스트 CSV 파일 경로 '{csv_file_path}'가 존재하지 않습니다.\"\n",
        "        return error_message\n",
        "\n",
        "    try:\n",
        "        with open(csv_file_path, 'r', encoding='utf-8') as csvfile:\n",
        "            try:\n",
        "                csv_reader = csv.DictReader(csvfile)\n",
        "                header = csv_reader.fieldnames\n",
        "                if not header or \"word_phrase\" not in header or \"category\" not in header:\n",
        "                    error_message = f\"오류 발생: 블랙리스트 CSV 파일 '{csv_file_path}'의 형식이 잘못되었습니다. \\n'word_phrase' 및 'category' 컬럼이 CSV 헤더에 포함되어 있어야 합니다.\"\n",
        "                    return error_message\n",
        "                for row in csv_reader:\n",
        "                    harmful_word_phrase_blacklist.append({\n",
        "                        \"word_phrase\": row[\"word_phrase\"].strip(),\n",
        "                        \"category\": row[\"category\"].strip()\n",
        "                    })\n",
        "\n",
        "                if user_blacklist_file_path:\n",
        "                    user_defined_blacklist_result = load_user_defined_blacklist_from_json(user_blacklist_file_path)\n",
        "                    if isinstance(user_defined_blacklist_result, str):\n",
        "                        return user_defined_blacklist_result\n",
        "                    elif isinstance(user_defined_blacklist_result, list):\n",
        "                        user_defined_blacklist = user_defined_blacklist_result\n",
        "                        print(f\"**[성공]** 사용자 정의 블랙리스트 '{user_blacklist_file_path}' 로드 완료. {len(user_defined_blacklist)}개 단어/구문 추가.\")\n",
        "                    else:\n",
        "                        pass\n",
        "\n",
        "                merged_blacklist = user_defined_blacklist + harmful_word_phrase_blacklist\n",
        "                unique_blacklist_word_phrases = set()\n",
        "                unique_merged_blacklist: List[Dict[str, str]] = []\n",
        "                for item in merged_blacklist:\n",
        "                    if item[\"word_phrase\"] not in unique_blacklist_word_phrases:\n",
        "                        unique_merged_blacklist.append(item)\n",
        "                        unique_blacklist_word_phrases.add(item[\"word_phrase\"])\n",
        "                harmful_word_phrase_blacklist_data = unique_merged_blacklist\n",
        "                return None\n",
        "\n",
        "            except Exception as e:\n",
        "                error_message = f\"오류 발생: 블랙리스트 CSV 파일 '{csv_file_path}'이 CSV 형식이 아니거나, 내용을 파싱할 수 없습니다.\"\n",
        "                return error_message\n",
        "\n",
        "    except Exception as e:\n",
        "        print(f\"**[디버깅 - 예외 발생]**: 예외가 발생했습니다! - 예외 종류: {type(e)}\")\n",
        "        error_message = f\"오류 발생: 블랙리스트 CSV 파일 '{csv_file_path}' 로드 중 오류가 발생했습니다. - {e}\"\n",
        "        print(error_message)\n",
        "        return error_message\n",
        "\n",
        "def detect_harmful_words_phrases(text: str, user_blacklist_file_path: str = None) -> Union[List[Dict[str, str]], str, None]:\n",
        "    \"\"\"텍스트에서 유해 단어/구문을 탐지합니다.\"\"\"\n",
        "    global harmful_word_phrase_blacklist_data\n",
        "    if harmful_word_phrase_blacklist_data is None: # 블랙리스트 데이터가 None 인 경우, 로드 시도\n",
        "        blacklist_file_path = \"harmful_words_phrases_blacklist.csv\"\n",
        "        error_message = load_harmful_word_blacklist_from_csv(blacklist_file_path, user_blacklist_file_path) # 사용자 정의 블랙리스트 파일 경로 전달\n",
        "        if error_message: # 블랙리스트 로드 실패 시 오류 메시지 반환\n",
        "            return error_message\n",
        "        if harmful_word_phrase_blacklist_data is None: # 여전히 None 인 경우 (로드 실패)\n",
        "            return None # None 반환 (오류)\n",
        "\n",
        "    preprocessed_text = preprocess_text(text) # 텍스트 전처리 (띄어쓰기, 문장 부호 제거)\n",
        "    detected_words_info: List[Dict[str, str]] = [] # 탐지된 단어/구문 정보 리스트 초기화\n",
        "    for item in harmful_word_phrase_blacklist_data: # 블랙리스트 순회\n",
        "        word_phrase = item[\"word_phrase\"] # 블랙리스트 단어/구문\n",
        "        category = item[\"category\"] # 블랙리스트 카테고리\n",
        "        if word_phrase in preprocessed_text: # 전처리된 텍스트에 블랙리스트 단어/구문 포함 여부 확인\n",
        "            detected_words_info.append({\"word_phrase\": word_phrase, \"category\": category}) # 탐지된 단어/구문 정보 리스트에 추가\n",
        "    return detected_words_info # 탐지된 단어/구문 정보 리스트 반환\n",
        "\n",
        "def add_word_to_blacklist(word_phrase: str, category: str) -> str:\n",
        "    \"\"\"단어/구문을 블랙리스트에 추가합니다.\"\"\"\n",
        "    global harmful_word_phrase_blacklist_data\n",
        "    if not word_phrase:\n",
        "        return \"오류: 단어/구문을 입력하세요.\"\n",
        "    new_item = {\"word_phrase\": word_phrase, \"category\": category}\n",
        "    if harmful_word_phrase_blacklist_data is None:\n",
        "        harmful_word_phrase_blacklist_data = [new_item]\n",
        "    else:\n",
        "        harmful_word_phrase_blacklist_data.append(new_item)\n",
        "    update_blacklist_in_csv() # CSV 파일 업데이트\n",
        "    return f\"'{word_phrase}' ({category}) 카테고리로 블랙리스트에 추가 완료\"\n",
        "\n",
        "def delete_word_from_blacklist(word_phrase: str) -> str:\n",
        "    \"\"\"단어/구문을 블랙리스트에서 삭제합니다.\"\"\"\n",
        "    global harmful_word_phrase_blacklist_data\n",
        "    if not word_phrase:\n",
        "        return \"오류: 삭제할 단어/구문을 입력하세요.\"\n",
        "    if harmful_word_phrase_blacklist_data:\n",
        "        harmful_word_phrase_blacklist_data = [item for item in harmful_word_phrase_blacklist_data if item[\"word_phrase\"] != word_phrase]\n",
        "        update_blacklist_in_csv() # CSV 파일 업데이트\n",
        "        return f\"'{word_phrase}' 블랙리스트에서 삭제 완료\"\n",
        "    else:\n",
        "        return \"오류: 블랙리스트에 삭제할 단어가 없습니다.\"\n",
        "\n",
        "def update_blacklist_in_csv():\n",
        "    \"\"\"블랙리스트 데이터를 CSV 파일에 저장합니다.\"\"\"\n",
        "    global harmful_word_phrase_blacklist_data\n",
        "    if harmful_word_phrase_blacklist_data is None:\n",
        "        return\n",
        "    blacklist_file_path = \"/content/drive/MyDrive/AI_Vtuber/harmful_words_phrases_blacklist.csv\" # Google Drive 경로 명시\n",
        "    try:\n",
        "        with open(blacklist_file_path, 'w', encoding='utf-8', newline='') as csvfile:\n",
        "            fieldnames = ['word_phrase', 'category']\n",
        "            csv_writer = csv.DictWriter(csvfile, fieldnames=fieldnames)\n",
        "            csv_writer.writeheader()\n",
        "            csv_writer.writerows(harmful_word_phrase_blacklist_data)\n",
        "        print(f\"**[성공]** 블랙리스트 CSV 파일 '{blacklist_file_path}' 업데이트 완료\")\n",
        "    except Exception as e:\n",
        "        error_message = f\"**[오류]** 블랙리스트 CSV 파일 '{blacklist_file_path}' 업데이트 실패: {e}\"\n",
        "        print(error_message)\n",
        "\n",
        "def load_blacklist_data(): # 블랙리스트 로드 함수 (UI 관련 코드 제거)\n",
        "    global harmful_word_phrase_blacklist_data\n",
        "    blacklist_file_path = \"/content/drive/MyDrive/AI_Vtuber/harmful_words_phrases_blacklist.csv\" # Google Drive 경로 명시\n",
        "    user_blacklist_file_path = \"user_defined_blacklist.json\"\n",
        "    error_message = load_harmful_word_blacklist_from_csv(blacklist_file_path, user_blacklist_file_path)\n",
        "    if error_message:\n",
        "        print(f\"블랙리스트 로드 실패: {error_message}\")\n",
        "        harmful_word_phrase_blacklist_data = []\n",
        "    elif harmful_word_phrase_blacklist_data is None:\n",
        "        print(\"블랙리스트 로드 실패 (알 수 없는 오류)\")\n",
        "        harmful_word_phrase_blacklist_data = []\n",
        "    else:\n",
        "        print(\"블랙리스트 로드 완료\")\n",
        "\n",
        "# --- [UI 관련 코드 제거] ---\n",
        "# UI 요소 정의, 이벤트 핸들러, UI 표시 코드 모두 제거됨\n",
        "\n",
        "# --- [테스트 코드] ---\n",
        "if __name__ == \"__main__\": # __name__ == \"__main__\" 블록 추가 (독립 실행 시에만 테스트 코드 실행)\n",
        "    load_blacklist_data() # 블랙리스트 로드\n",
        "\n",
        "    # 텍스트 입력 및 유해 단어/구문 탐지 테스트\n",
        "    test_text = \"이런 멍청이 같은\" # 테스트 텍스트\n",
        "    detected_words = detect_harmful_words_phrases(test_text) # 유해 단어/구문 탐지 함수 호출\n",
        "    if detected_words: # 탐지된 유해 단어/구문이 있는 경우\n",
        "        print(f\"\\n**[탐지 결과]** 텍스트: '{test_text}' 에서 유해 단어/구문이 탐지되었습니다:\") # 결과 메시지 출력\n",
        "        for word in detected_words: # 탐지된 단어/구문 목록 출력\n",
        "            print(f\"- '{word['word_phrase']}' (카테고리: {word['category']})\")\n",
        "    else: # 탐지된 유해 단어/구문이 없는 경우\n",
        "        print(f\"\\n**[탐지 결과]** 텍스트: '{test_text}' 에서 유해 단어/구문이 탐지되지 않았습니다.\") # 결과 메시지 출력\n",
        "\n",
        "    # 블랙리스트 단어/구문 추가 테스트\n",
        "    word_to_add = \"test_word\" # 추가할 단어/구문\n",
        "    category_to_add = \"일반\" # 추가할 카테고리\n",
        "    add_result_message = add_word_to_blacklist(word_to_add, category_to_add) # 블랙리스트 추가 함수 호출\n",
        "    print(f\"\\n**[블랙리스트 추가 결과]**: {add_result_message}\") # 추가 결과 메시지 출력\n",
        "\n",
        "    # 블랙리스트 단어/구문 삭제 테스트\n",
        "    word_to_delete = \"test_word\" # 삭제할 단어/구문 (방금 추가한 단어)\n",
        "    delete_result_message = delete_word_from_blacklist(word_to_delete) # 블랙리스트 삭제 함수 호출\n",
        "    print(f\"\\n**[블랙리스트 삭제 결과]**: {delete_result_message}\") # 삭제 결과 메시지 출력\n",
        "\n",
        "    # 블랙리스트 데이터 (harmful_word_phrase_blacklist_data) 내용 확인 (디버깅 용도)\n",
        "    print(f\"\\n**[최종 블랙리스트 데이터]**:\") # 최종 블랙리스트 데이터 제목 출력\n",
        "    if harmful_word_phrase_blacklist_data: # 블랙리스트 데이터가 있는 경우\n",
        "        for item in harmful_word_phrase_blacklist_data: # 블랙리스트 아이템 순회하며 출력\n",
        "            print(f\"- '{item['word_phrase']}' (카테고리: {item['category']})\") # 각 아이템 정보 출력\n",
        "    else: # 블랙리스트 데이터가 없는 경우\n",
        "        print(\"블랙리스트 데이터가 없습니다.\") # 블랙리스트 없음 메시지 출력"
      ],
      "metadata": {
        "colab": {
          "base_uri": "https://localhost:8080/"
        },
        "id": "tq3CEGdKdq3D",
        "outputId": "9e3feb87-4fa8-4c0d-cef8-598451c65fd3"
      },
      "execution_count": null,
      "outputs": [
        {
          "output_type": "stream",
          "name": "stdout",
          "text": [
            "**[경고]** 사용자 정의 블랙리스트 파일 'user_defined_blacklist.json'이 존재하지 않습니다. 기본 블랙리스트만 사용합니다.\n",
            "블랙리스트 로드 완료\n",
            "\n",
            "**[탐지 결과]** 텍스트: '이런 멍청이 같은' 에서 유해 단어/구문이 탐지되었습니다:\n",
            "- '멍청이' (카테고리: 욕설)\n",
            "**[성공]** 블랙리스트 CSV 파일 '/content/drive/MyDrive/AI_Vtuber/harmful_words_phrases_blacklist.csv' 업데이트 완료\n",
            "\n",
            "**[블랙리스트 추가 결과]**: 'test_word' (일반) 카테고리로 블랙리스트에 추가 완료\n",
            "**[성공]** 블랙리스트 CSV 파일 '/content/drive/MyDrive/AI_Vtuber/harmful_words_phrases_blacklist.csv' 업데이트 완료\n",
            "\n",
            "**[블랙리스트 삭제 결과]**: 'test_word' 블랙리스트에서 삭제 완료\n",
            "\n",
            "**[최종 블랙리스트 데이터]**:\n",
            "- '멍청이' (카테고리: 욕설)\n"
          ]
        }
      ]
    },
    {
      "cell_type": "code",
      "source": [
        "from google.colab import drive\n",
        "drive.mount('/content/drive')\n",
        "# 필요한 파일 경로 설정\n",
        "blacklist_file_path = \"/content/drive/MyDrive/AI_Vtuber/harmful_words_phrases_blacklist.csv\""
      ],
      "metadata": {
        "colab": {
          "base_uri": "https://localhost:8080/"
        },
        "id": "R3_NczkxdusE",
        "outputId": "6efc3419-35b6-4205-d514-44609e6dcc9d"
      },
      "execution_count": null,
      "outputs": [
        {
          "output_type": "stream",
          "name": "stdout",
          "text": [
            "Mounted at /content/drive\n"
          ]
        }
      ]
    },
    {
      "cell_type": "code",
      "source": [
        "# AI API 연결 코드 (저를 통해 제공받은 코드 붙여넣기)"
      ],
      "metadata": {
        "id": "RAxuzmWRd0IT"
      },
      "execution_count": null,
      "outputs": []
    },
    {
      "cell_type": "code",
      "source": [
        "# 테스트 함수 실행"
      ],
      "metadata": {
        "id": "Hr772S9rd1wS"
      },
      "execution_count": null,
      "outputs": []
    },
    {
      "cell_type": "code",
      "source": [
        "import csv\n",
        "from google.colab import drive\n",
        "import os\n",
        "\n",
        "# Google Drive 연결 (이미 연결되어 있다면 이 부분은 건너뛰어도 됩니다.)\n",
        "drive.mount('/content/drive', force_remount=True)\n",
        "\n",
        "def add_word_to_blacklist_csv(file_path: str, word_phrase: str, category: str):\n",
        "    \"\"\"주어진 CSV 파일에 단어/구문을 블랙리스트로 추가합니다.\"\"\"\n",
        "    try:\n",
        "        # 파일이 존재하지 않으면 헤더를 포함하여 새로 생성\n",
        "        if not os.path.exists(file_path):\n",
        "            with open(file_path, 'w', encoding='utf-8', newline='') as csvfile:\n",
        "                writer = csv.writer(csvfile)\n",
        "                writer.writerow(['word_phrase', 'category'])\n",
        "                writer.writerow([word_phrase, category])\n",
        "            print(f\"**[성공]** 블랙리스트 파일 '{file_path}' 생성 및 '{word_phrase}' 추가 완료\")\n",
        "        else:\n",
        "            # 파일이 존재하면 추가 모드로 열어 단어 추가\n",
        "            with open(file_path, 'a', encoding='utf-8', newline='') as csvfile:\n",
        "                writer = csv.writer(csvfile)\n",
        "                writer.writerow([word_phrase, category])\n",
        "            print(f\"**[성공]** 블랙리스트 파일 '{file_path}'에 '{word_phrase}' 추가 완료\")\n",
        "    except Exception as e:\n",
        "        error_message = f\"**[오류]** 블랙리스트 파일 '{file_path}'에 '{word_phrase}' 추가 실패: {e}\"\n",
        "        print(error_message)\n",
        "\n",
        "# 추가하고 싶은 단어와 카테고리 설정\n",
        "word_to_add = \"멍청이\"\n",
        "category_to_add = \"욕설\"\n",
        "\n",
        "# 블랙리스트 파일 경로 (본인의 Google Drive 경로에 맞춰 수정해주세요)\n",
        "blacklist_file_path = \"/content/drive/MyDrive/AI_Vtuber/harmful_words_phrases_blacklist.csv\"\n",
        "\n",
        "# 함수 호출하여 단어 추가\n",
        "add_word_to_blacklist_csv(blacklist_file_path, word_to_add, category_to_add)\n",
        "\n",
        "# (선택 사항) 다른 단어 추가 예시\n",
        "# add_word_to_blacklist_csv(blacklist_file_path, \"바보\", \"비속어\")"
      ],
      "metadata": {
        "colab": {
          "base_uri": "https://localhost:8080/"
        },
        "id": "N11kFSbqif3z",
        "outputId": "cdca4be1-3636-492b-e18d-8a21e919ab6a"
      },
      "execution_count": null,
      "outputs": [
        {
          "output_type": "stream",
          "name": "stdout",
          "text": [
            "Mounted at /content/drive\n",
            "**[성공]** 블랙리스트 파일 '/content/drive/MyDrive/AI_Vtuber/harmful_words_phrases_blacklist.csv' 생성 및 '멍청이' 추가 완료\n"
          ]
        }
      ]
    },
    {
      "cell_type": "code",
      "source": [
        "!python ai_interface.py"
      ],
      "metadata": {
        "colab": {
          "base_uri": "https://localhost:8080/"
        },
        "id": "X9fWVZV_ZbZG",
        "outputId": "e86cda1b-4bdd-4548-e9d0-ccc76d99d5e9"
      },
      "execution_count": null,
      "outputs": [
        {
          "output_type": "stream",
          "name": "stdout",
          "text": [
            "사용자: 안녕하세요?\n",
            "AI 응답: 안녕하세요! 무엇을 도와드릴까요? 😊\n",
            "\n"
          ]
        }
      ]
    },
    {
      "cell_type": "code",
      "source": [
        "from google.colab import drive\n",
        "drive.mount('/content/drive')\n",
        "\n",
        "from ai_interface import send_message_to_ai\n",
        "from main import detect_harmful_words_phrases # 유해 단어 탐지 함수 불러오기\n",
        "\n",
        "def start_chat():\n",
        "    print(\"AI 채팅을 시작합니다. '종료'를 입력하면 채팅이 종료됩니다.\")\n",
        "    while True:\n",
        "        user_input = input(\"사용자: \")\n",
        "        if user_input.lower() == '종료':\n",
        "            print(\"채팅을 종료합니다.\")\n",
        "            break\n",
        "\n",
        "        # 사용자 입력에 대한 유해 단어 필터링\n",
        "        detected_harmful_words_user = detect_harmful_words_phrases(user_input)\n",
        "        if detected_harmful_words_user:\n",
        "            print(f\"**[경고]** 입력에 유해 단어/구문이 포함되어 있습니다: {detected_harmful_words_user}\")\n",
        "            continue # 유해 단어가 있으면 AI에게 보내지 않고 다시 입력 받음\n",
        "\n",
        "        ai_response = send_message_to_ai(user_input)\n",
        "\n",
        "        # AI 응답에 대한 유해 단어 필터링\n",
        "        detected_harmful_words_ai = detect_harmful_words_phrases(ai_response)\n",
        "        if detected_harmful_words_ai:\n",
        "            print(f\"**[경고]** AI 응답에 유해 단어/구문이 포함되어 있습니다: {detected_harmful_words_ai}\")\n",
        "            print(\"**[주의]** AI 응답에서 유해 단어가 감지되어 표시하지 않습니다.\")\n",
        "            ai_response = \"[유해 단어 감지됨]\" # 또는 다른 대체 메시지 처리\n",
        "        else:\n",
        "            print(f\"AI 응답: {ai_response}\")\n",
        "\n",
        "if __name__ == \"__main__\":\n",
        "    start_chat()"
      ],
      "metadata": {
        "colab": {
          "base_uri": "https://localhost:8080/",
          "height": 296
        },
        "id": "-I7zddMpgEld",
        "outputId": "f4059c7f-0cd6-407c-971a-fa955b96a446"
      },
      "execution_count": null,
      "outputs": [
        {
          "output_type": "stream",
          "name": "stdout",
          "text": [
            "Drive already mounted at /content/drive; to attempt to forcibly remount, call drive.mount(\"/content/drive\", force_remount=True).\n"
          ]
        },
        {
          "output_type": "error",
          "ename": "SyntaxError",
          "evalue": "invalid syntax (main.py, line 4)",
          "traceback": [
            "Traceback \u001b[0;36m(most recent call last)\u001b[0m:\n",
            "  File \u001b[1;32m\"/usr/local/lib/python3.11/dist-packages/IPython/core/interactiveshell.py\"\u001b[0m, line \u001b[1;32m3553\u001b[0m, in \u001b[1;35mrun_code\u001b[0m\n    exec(code_obj, self.user_global_ns, self.user_ns)\n",
            "\u001b[0;36m  File \u001b[0;32m\"<ipython-input-16-32a7c4385180>\"\u001b[0;36m, line \u001b[0;32m5\u001b[0;36m, in \u001b[0;35m<cell line: 0>\u001b[0;36m\u001b[0m\n\u001b[0;31m    from main import detect_harmful_words_phrases # 유해 단어 탐지 함수 불러오기\u001b[0m\n",
            "\u001b[0;36m  File \u001b[0;32m\"/content/main.py\"\u001b[0;36m, line \u001b[0;32m4\u001b[0m\n\u001b[0;31m    detected_harmful =\u001b[0m\n\u001b[0m                      ^\u001b[0m\n\u001b[0;31mSyntaxError\u001b[0m\u001b[0;31m:\u001b[0m invalid syntax\n"
          ]
        }
      ]
    },
    {
      "cell_type": "code",
      "source": [
        "!python main.py"
      ],
      "metadata": {
        "colab": {
          "base_uri": "https://localhost:8080/"
        },
        "id": "D2cprV3tlZQc",
        "outputId": "469a305f-9b2f-4d0d-ab39-a80f69530975"
      },
      "execution_count": null,
      "outputs": [
        {
          "output_type": "stream",
          "name": "stdout",
          "text": [
            "  File \"/content/main.py\", line 4\n",
            "    detected_harmful =\n",
            "                      ^\n",
            "SyntaxError: invalid syntax\n"
          ]
        }
      ]
    },
    {
      "cell_type": "code",
      "source": [
        "import csv\n",
        "import os\n",
        "import re\n",
        "import json\n",
        "from typing import List, Dict, Optional\n",
        "from google.colab import drive\n",
        "\n",
        "# --- Google Drive 마운트 및 파일 처리 ---\n",
        "\n",
        "def mount_google_drive():\n",
        "    \"\"\"구글 드라이브를 Colab 환경에 마운트\"\"\"\n",
        "    drive.mount('/content/drive')  # /content/drive 경로로 구글 드라이브가 마운트됨\n",
        "\n",
        "# --- 블랙리스트 로딩 및 관리 함수 ---\n",
        "\n",
        "class BlacklistLoader:\n",
        "    def __init__(self, csv_path: str, json_path: Optional[str] = None):\n",
        "        \"\"\"CSV 파일 경로, JSON 파일 경로를 받아 블랙리스트를 초기화\"\"\"\n",
        "        self.csv_path = csv_path\n",
        "        self.json_path = json_path\n",
        "        self.blacklist_data: List[Dict[str, str]] = []\n",
        "        self.load_blacklist()\n",
        "\n",
        "    def load_blacklist(self):\n",
        "        \"\"\"블랙리스트 로딩: CSV 및 JSON 파일에서 불러오기\"\"\"\n",
        "        csv_data = self._load_csv()\n",
        "        json_data = self._load_json() if self.json_path else []\n",
        "        # CSV와 JSON 데이터를 병합하여 최종 블랙리스트 데이터 생성\n",
        "        self.blacklist_data = self._merge_blacklists(csv_data, json_data)\n",
        "\n",
        "    def _load_csv(self) -> List[Dict[str, str]]:\n",
        "        \"\"\"CSV 파일에서 블랙리스트 로드\"\"\"\n",
        "        if not os.path.exists(self.csv_path):\n",
        "            print(f\"[경고] 블랙리스트 CSV 파일이 존재하지 않습니다: {self.csv_path}\")\n",
        "            return []\n",
        "\n",
        "        try:\n",
        "            with open(self.csv_path, 'r', encoding='utf-8') as csvfile:\n",
        "                csv_reader = csv.DictReader(csvfile)\n",
        "                if \"word_phrase\" not in csv_reader.fieldnames or \"category\" not in csv_reader.fieldnames:\n",
        "                    print(f\"[오류] CSV 형식이 잘못되었습니다: {self.csv_path}\")\n",
        "                    return []\n",
        "                return [\n",
        "                    {\"word_phrase\": row[\"word_phrase\"].strip(), \"category\": row[\"category\"].strip()}\n",
        "                    for row in csv_reader\n",
        "                ]\n",
        "        except Exception as e:\n",
        "            print(f\"[오류] CSV 로드 중 오류 발생: {e}\")\n",
        "            return []\n",
        "\n",
        "    def _load_json(self) -> List[Dict[str, str]]:\n",
        "        \"\"\"JSON 파일에서 사용자 정의 블랙리스트 로드\"\"\"\n",
        "        if not os.path.exists(self.json_path):\n",
        "            print(f\"[경고] 사용자 정의 블랙리스트 파일이 없습니다: {self.json_path}\")\n",
        "            return []\n",
        "\n",
        "        try:\n",
        "            with open(self.json_path, 'r', encoding='utf-8') as json_file:\n",
        "                data = json.load(json_file)\n",
        "                if not isinstance(data, list):\n",
        "                    print(f\"[오류] JSON 형식이 잘못되었습니다: {self.json_path}\")\n",
        "                    return []\n",
        "                return [\n",
        "                    {\"word_phrase\": item[\"word_phrase\"].strip(), \"category\": item[\"category\"].strip()}\n",
        "                    for item in data if isinstance(item, dict) and \"word_phrase\" in item and \"category\" in item\n",
        "                ]\n",
        "        except json.JSONDecodeError as e:\n",
        "            print(f\"[오류] JSON 파싱 오류: {e}\")\n",
        "            return []\n",
        "        except Exception as e:\n",
        "            print(f\"[오류] JSON 로드 중 오류 발생: {e}\")\n",
        "            return []\n",
        "\n",
        "    def _merge_blacklists(self, csv_data: List[Dict[str, str]], json_data: List[Dict[str, str]]) -> List[Dict[str, str]]:\n",
        "        \"\"\"CSV 및 JSON 데이터를 병합하고 중복 제거\"\"\"\n",
        "        unique_entries = {item[\"word_phrase\"]: item for item in csv_data + json_data}\n",
        "        return list(unique_entries.values())\n",
        "\n",
        "    def save_blacklist(self):\n",
        "        \"\"\"블랙리스트를 CSV 파일에 저장\"\"\"\n",
        "        try:\n",
        "            with open(self.csv_path, 'w', encoding='utf-8', newline='') as csvfile:\n",
        "                fieldnames = ['word_phrase', 'category']\n",
        "                csv_writer = csv.DictWriter(csvfile, fieldnames=fieldnames)\n",
        "                csv_writer.writeheader()\n",
        "                csv_writer.writerows(self.blacklist_data)\n",
        "            print(f\"[성공] 블랙리스트 저장 완료: {self.csv_path}\")\n",
        "        except Exception as e:\n",
        "            print(f\"[오류] 블랙리스트 저장 실패: {e}\")\n",
        "\n",
        "    def add_to_blacklist(self, word_phrase: str, category: str):\n",
        "        \"\"\"블랙리스트에 항목 추가\"\"\"\n",
        "        if any(item[\"word_phrase\"] == word_phrase for item in self.blacklist_data):\n",
        "            print(f\"[정보] '{word_phrase}' 이미 블랙리스트에 존재함\")\n",
        "            return\n",
        "        self.blacklist_data.append({\"word_phrase\": word_phrase, \"category\": category})\n",
        "        self.save_blacklist()\n",
        "\n",
        "    def remove_from_blacklist(self, word_phrase: str):\n",
        "        \"\"\"블랙리스트에서 항목 제거\"\"\"\n",
        "        self.blacklist_data = [item for item in self.blacklist_data if item[\"word_phrase\"] != word_phrase]\n",
        "        self.save_blacklist()\n",
        "\n",
        "# --- 텍스트 전처리 및 유해 단어 탐지 함수 ---\n",
        "\n",
        "def preprocess_text(text: str) -> str:\n",
        "    \"\"\"입력 텍스트에서 띄어쓰기 및 문장 부호를 제거\"\"\"\n",
        "    text_without_spaces = re.sub(r'\\s', '', text)\n",
        "    return re.sub(r'[.,?!\\'\"~·—…「」《》〈〉《》\\[\\]【】()\\[\\]]', '', text_without_spaces)\n",
        "\n",
        "def detect_harmful_words(text: str, blacklist_loader: BlacklistLoader) -> List[Dict[str, str]]:\n",
        "    \"\"\"텍스트에서 유해 단어/구문을 탐지\"\"\"\n",
        "    preprocessed_text = preprocess_text(text)\n",
        "    return [\n",
        "        {\"word_phrase\": item[\"word_phrase\"], \"category\": item[\"category\"]}\n",
        "        for item in blacklist_loader.blacklist_data if item[\"word_phrase\"] in preprocessed_text\n",
        "    ]\n",
        "\n",
        "# --- 테스트 실행 ---\n",
        "if __name__ == \"__main__\":\n",
        "    # 구글 드라이브 마운트\n",
        "    mount_google_drive()\n",
        "\n",
        "    # 블랙리스트 로딩 (경로 수정)\n",
        "    blacklist_loader = BlacklistLoader(\n",
        "        csv_path=\"/content/drive/MyDrive/AI_Vtuber/harmful_words_phrases_blacklist.csv\",\n",
        "        json_path=\"/content/drive/MyDrive/AI_Vtuber/user_defined_blacklist.json\"\n",
        "    )\n",
        "\n",
        "    # 텍스트에서 유해 단어 탐지\n",
        "    test_text = \"이런 멍청이 같은\"\n",
        "    detected_words = detect_harmful_words(test_text, blacklist_loader)\n",
        "\n",
        "    print(\"\\n[탐지 결과]\")\n",
        "    if detected_words:\n",
        "        for word in detected_words:\n",
        "            print(f\"- '{word['word_phrase']}' (카테고리: {word['category']})\")\n",
        "    else:\n",
        "        print(\"유해 단어/구문이 발견되지 않았습니다.\")\n",
        "\n",
        "    # 블랙리스트 관리 예시\n",
        "    blacklist_loader.add_to_blacklist(\"새로운금지어\", \"일반\")\n",
        "    blacklist_loader.remove_from_blacklist(\"새로운금지어\")\n"
      ],
      "metadata": {
        "colab": {
          "base_uri": "https://localhost:8080/"
        },
        "id": "2VmXqN6SryCY",
        "outputId": "5b8aa37f-5c9e-421e-8245-8c4dbcad7b5b"
      },
      "execution_count": null,
      "outputs": [
        {
          "output_type": "stream",
          "name": "stdout",
          "text": [
            "Drive already mounted at /content/drive; to attempt to forcibly remount, call drive.mount(\"/content/drive\", force_remount=True).\n",
            "[경고] 사용자 정의 블랙리스트 파일이 없습니다: /content/drive/MyDrive/AI_Vtuber/user_defined_blacklist.json\n",
            "\n",
            "[탐지 결과]\n",
            "- '멍청이' (카테고리: 욕설)\n",
            "[성공] 블랙리스트 저장 완료: /content/drive/MyDrive/AI_Vtuber/harmful_words_phrases_blacklist.csv\n",
            "[성공] 블랙리스트 저장 완료: /content/drive/MyDrive/AI_Vtuber/harmful_words_phrases_blacklist.csv\n"
          ]
        }
      ]
    }
  ]
}